{
 "cells": [
  {
   "cell_type": "code",
   "execution_count": 5,
   "metadata": {},
   "outputs": [],
   "source": [
    "import numpy as np\n",
    "\n",
    "class NeuralNetwork():\n",
    "    def __init__(self):\n",
    "        np.random.seed(1)\n",
    "        \n",
    "        # We're modelling a single neuron, with 3 input connections\n",
    "        # and 1 output connection.\n",
    "        # We assign random weights to a 3x1 matrix, with values in the\n",
    "        #   range -1 to 1 and mean 0\n",
    "        \n",
    "        self.synaptic_weights = 2 * np.random.random((3,1)) - 1\n",
    "        \n",
    "        # sigmoid function - describes an s shaped curve - actv. function\n",
    "        # we pass the weighted sum of the inputs through this function\n",
    "        # to normalize them between 0 and 1\n",
    "    def __sigmoid(self, x):\n",
    "        return 1 / (1 + np.exp(-x))\n",
    "    \n",
    "    def __sigmoid_derivative(self, x):\n",
    "        # for backpropagation\n",
    "        return x * (1-x)\n",
    "    \n",
    "    def train(self, training_set_inputs, training_set_outputs, num_of_training_iterations):\n",
    "        for iteration in range(num_of_training_iterations):\n",
    "            output = self.predict(training_set_inputs)\n",
    "            \n",
    "            # apply gradient descent\n",
    "            # calculate the error\n",
    "            error = training_set_outputs - output\n",
    "            \n",
    "            # multiple the error by the input and by the gradient of the sigmoid curve\n",
    "            adjustment = np.dot(training_set_inputs.T, error * self.__sigmoid_derivative(output))\n",
    "            \n",
    "            # adjust the weights\n",
    "            self.synaptic_weights += adjustment\n",
    "            \n",
    "    def predict(self, inputs):\n",
    "        # pass inputs through our neural network\n",
    "        return self.__sigmoid(np.dot(inputs, self.synaptic_weights))"
   ]
  },
  {
   "cell_type": "code",
   "execution_count": 6,
   "metadata": {},
   "outputs": [
    {
     "name": "stdout",
     "output_type": "stream",
     "text": [
      "Random starting synaptic weights:\n",
      "[[-0.16595599]\n",
      " [ 0.44064899]\n",
      " [-0.99977125]]\n",
      "New synaptic weights after training: \n",
      "[[ 9.67299303]\n",
      " [-0.2078435 ]\n",
      " [-4.62963669]]\n",
      "Predicting\n",
      "[0.99993704]\n"
     ]
    }
   ],
   "source": [
    "if __name__ == '__main__':\n",
    "    \n",
    "    # initialize a single neuron neural network\n",
    "    neural_network = NeuralNetwork()\n",
    "    \n",
    "    print('Random starting synaptic weights:')\n",
    "    print(neural_network.synaptic_weights)\n",
    "    \n",
    "    # Define the training set. 4 examples consisting of 3 input values\n",
    "    # and 1 output value\n",
    "    training_set_inputs = np.array([[0,0,1], [1,1,1], [1,0,1], [0,1,1]])\n",
    "    training_set_outputs = np.array([[0,1,1,0]]).T\n",
    "    \n",
    "    # Using the training set, train the neural network\n",
    "    # Do this for 10,000 times and make small adjustments for each time\n",
    "    neural_network.train(training_set_inputs, training_set_outputs, 10000)\n",
    "    \n",
    "    print(\"New synaptic weights after training: \")\n",
    "    print(neural_network.synaptic_weights)\n",
    "    \n",
    "    # Test the neural network. Do the prediction\n",
    "    print('Predicting')\n",
    "    print(neural_network.predict(np.array([1,0,0])))"
   ]
  },
  {
   "cell_type": "code",
   "execution_count": null,
   "metadata": {},
   "outputs": [],
   "source": []
  }
 ],
 "metadata": {
  "kernelspec": {
   "display_name": "Python 3",
   "language": "python",
   "name": "python3"
  },
  "language_info": {
   "codemirror_mode": {
    "name": "ipython",
    "version": 3
   },
   "file_extension": ".py",
   "mimetype": "text/x-python",
   "name": "python",
   "nbconvert_exporter": "python",
   "pygments_lexer": "ipython3",
   "version": "3.6.7"
  }
 },
 "nbformat": 4,
 "nbformat_minor": 2
}
