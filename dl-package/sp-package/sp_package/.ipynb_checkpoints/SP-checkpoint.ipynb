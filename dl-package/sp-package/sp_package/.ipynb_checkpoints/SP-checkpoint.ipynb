{
 "cells": [
  {
   "cell_type": "markdown",
   "metadata": {},
   "source": [
    "## Loader Module\n",
    "This module contains the functions to load the data from the dataset. Specifically, it also does the following:\n",
    "- Read the csv file (tweets.csv) and convert it to pandas dataframe\n",
    "- \n"
   ]
  },
  {
   "cell_type": "code",
   "execution_count": 2,
   "metadata": {},
   "outputs": [],
   "source": [
    "# Import libraries\n",
    "import pandas as pd               # For data manipulation"
   ]
  },
  {
   "cell_type": "code",
   "execution_count": 9,
   "metadata": {},
   "outputs": [
    {
     "data": {
      "text/html": [
       "<div>\n",
       "<style scoped>\n",
       "    .dataframe tbody tr th:only-of-type {\n",
       "        vertical-align: middle;\n",
       "    }\n",
       "\n",
       "    .dataframe tbody tr th {\n",
       "        vertical-align: top;\n",
       "    }\n",
       "\n",
       "    .dataframe thead th {\n",
       "        text-align: right;\n",
       "    }\n",
       "</style>\n",
       "<table border=\"1\" class=\"dataframe\">\n",
       "  <thead>\n",
       "    <tr style=\"text-align: right;\">\n",
       "      <th></th>\n",
       "      <th>tweet</th>\n",
       "      <th>created_at</th>\n",
       "    </tr>\n",
       "  </thead>\n",
       "  <tbody>\n",
       "    <tr>\n",
       "      <th>0</th>\n",
       "      <td>RT @KatDeCastro: Yes folks. This is the bigges...</td>\n",
       "      <td>Thu Nov 07 10:48:40 +0000 2013</td>\n",
       "    </tr>\n",
       "    <tr>\n",
       "      <th>1</th>\n",
       "      <td>RT @jolorevilla: All classes pre-school to HS ...</td>\n",
       "      <td>Thu Nov 07 10:48:40 +0000 2013</td>\n",
       "    </tr>\n",
       "    <tr>\n",
       "      <th>2</th>\n",
       "      <td>RT @DepEd_PH: BOROGAN CITY, SAMAR | #walangpas...</td>\n",
       "      <td>Thu Nov 07 10:48:40 +0000 2013</td>\n",
       "    </tr>\n",
       "    <tr>\n",
       "      <th>3</th>\n",
       "      <td>Take care and God bless, Visayas!!! #YolandaPH...</td>\n",
       "      <td>Thu Nov 07 10:48:40 +0000 2013</td>\n",
       "    </tr>\n",
       "    <tr>\n",
       "      <th>4</th>\n",
       "      <td>Praying for Leyte and Samar..</td>\n",
       "      <td>Thu Nov 07 10:48:41 +0000 2013</td>\n",
       "    </tr>\n",
       "    <tr>\n",
       "      <th>5</th>\n",
       "      <td>#pray for the people of the Philippines for th...</td>\n",
       "      <td>Thu Nov 07 10:48:41 +0000 2013</td>\n",
       "    </tr>\n",
       "    <tr>\n",
       "      <th>6</th>\n",
       "      <td>Sa mga nakatira sa visayas!! Mag ingat po kau ...</td>\n",
       "      <td>Thu Nov 07 10:48:42 +0000 2013</td>\n",
       "    </tr>\n",
       "    <tr>\n",
       "      <th>7</th>\n",
       "      <td>ΓÇ£@Justiniiiiiine: Pray for Leyte and the oth...</td>\n",
       "      <td>Thu Nov 07 10:48:42 +0000 2013</td>\n",
       "    </tr>\n",
       "    <tr>\n",
       "      <th>8</th>\n",
       "      <td>Umuulan na! Be safe everyone. Lets pray that n...</td>\n",
       "      <td>Thu Nov 07 10:48:43 +0000 2013</td>\n",
       "    </tr>\n",
       "    <tr>\n",
       "      <th>9</th>\n",
       "      <td>RT @TVPatrol: #TVPatrol Mga lugar na nasa ilal...</td>\n",
       "      <td>Thu Nov 07 10:48:44 +0000 2013</td>\n",
       "    </tr>\n",
       "  </tbody>\n",
       "</table>\n",
       "</div>"
      ],
      "text/plain": [
       "                                               tweet  \\\n",
       "0  RT @KatDeCastro: Yes folks. This is the bigges...   \n",
       "1  RT @jolorevilla: All classes pre-school to HS ...   \n",
       "2  RT @DepEd_PH: BOROGAN CITY, SAMAR | #walangpas...   \n",
       "3  Take care and God bless, Visayas!!! #YolandaPH...   \n",
       "4                      Praying for Leyte and Samar..   \n",
       "5  #pray for the people of the Philippines for th...   \n",
       "6  Sa mga nakatira sa visayas!! Mag ingat po kau ...   \n",
       "7  ΓÇ£@Justiniiiiiine: Pray for Leyte and the oth...   \n",
       "8  Umuulan na! Be safe everyone. Lets pray that n...   \n",
       "9  RT @TVPatrol: #TVPatrol Mga lugar na nasa ilal...   \n",
       "\n",
       "                       created_at  \n",
       "0  Thu Nov 07 10:48:40 +0000 2013  \n",
       "1  Thu Nov 07 10:48:40 +0000 2013  \n",
       "2  Thu Nov 07 10:48:40 +0000 2013  \n",
       "3  Thu Nov 07 10:48:40 +0000 2013  \n",
       "4  Thu Nov 07 10:48:41 +0000 2013  \n",
       "5  Thu Nov 07 10:48:41 +0000 2013  \n",
       "6  Thu Nov 07 10:48:42 +0000 2013  \n",
       "7  Thu Nov 07 10:48:42 +0000 2013  \n",
       "8  Thu Nov 07 10:48:43 +0000 2013  \n",
       "9  Thu Nov 07 10:48:44 +0000 2013  "
      ]
     },
     "execution_count": 9,
     "metadata": {},
     "output_type": "execute_result"
    }
   ],
   "source": [
    "# Read csv file\n",
    "tweets_df = pd.read_csv('yolanda_tweets.csv', encoding='utf-16')\n",
    "\n",
    "# \n",
    "print(twe)\n",
    "tweets_df.head(10)"
   ]
  },
  {
   "cell_type": "code",
   "execution_count": null,
   "metadata": {},
   "outputs": [],
   "source": []
  },
  {
   "cell_type": "markdown",
   "metadata": {},
   "source": [
    "### Resources\n",
    "- Typhoon Haiyan dataset used in the project is downloadable at https://bit.ly/2GX9Xfz.\n",
    "- Some modules are based on https://github.com/google/eng-edu/tree/master/ml/guides/text_classification"
   ]
  },
  {
   "cell_type": "code",
   "execution_count": null,
   "metadata": {},
   "outputs": [],
   "source": []
  }
 ],
 "metadata": {
  "kernelspec": {
   "display_name": "Python 3",
   "language": "python",
   "name": "python3"
  },
  "language_info": {
   "codemirror_mode": {
    "name": "ipython",
    "version": 3
   },
   "file_extension": ".py",
   "mimetype": "text/x-python",
   "name": "python",
   "nbconvert_exporter": "python",
   "pygments_lexer": "ipython3",
   "version": "3.7.2"
  }
 },
 "nbformat": 4,
 "nbformat_minor": 2
}
